{
 "cells": [
  {
   "cell_type": "code",
   "execution_count": 2,
   "metadata": {},
   "outputs": [],
   "source": [
    "from src.models import ResNet50\n",
    "from src.dataset import Animals\n",
    "from src.train import Train\n",
    "from src.helper import accuracy_fn"
   ]
  },
  {
   "cell_type": "code",
   "execution_count": 3,
   "metadata": {},
   "outputs": [],
   "source": [
    "import torch \n",
    "from torch import nn \n",
    "from torch.utils.data import DataLoader"
   ]
  },
  {
   "cell_type": "code",
   "execution_count": 4,
   "metadata": {},
   "outputs": [],
   "source": [
    "torch.manual_seed(42)\n",
    "device = 'cuda' if torch.cuda.is_available() else 'cpu'"
   ]
  },
  {
   "cell_type": "code",
   "execution_count": 5,
   "metadata": {},
   "outputs": [],
   "source": [
    "# Parameters\n",
    "BATCH_SIZE = 128\n",
    "EPOCHS = 50"
   ]
  },
  {
   "cell_type": "code",
   "execution_count": 6,
   "metadata": {},
   "outputs": [],
   "source": [
    "train_data,val_data,test_data = Animals.train_test_val_data()"
   ]
  },
  {
   "cell_type": "code",
   "execution_count": 7,
   "metadata": {},
   "outputs": [],
   "source": [
    "animals = Animals(root='src/data/animal_data')"
   ]
  },
  {
   "cell_type": "code",
   "execution_count": 8,
   "metadata": {},
   "outputs": [],
   "source": [
    "class_names = animals.get_class_to_idx()"
   ]
  },
  {
   "cell_type": "code",
   "execution_count": 9,
   "metadata": {},
   "outputs": [
    {
     "data": {
      "text/plain": [
       "{'Bear': 0,\n",
       " 'Bird': 1,\n",
       " 'Cat': 2,\n",
       " 'Cow': 3,\n",
       " 'Deer': 4,\n",
       " 'Dog': 5,\n",
       " 'Dolphin': 6,\n",
       " 'Elephant': 7,\n",
       " 'Giraffe': 8,\n",
       " 'Horse': 9,\n",
       " 'Kangaroo': 10,\n",
       " 'Lion': 11,\n",
       " 'Panda': 12,\n",
       " 'Tiger': 13,\n",
       " 'Zebra': 14}"
      ]
     },
     "execution_count": 9,
     "metadata": {},
     "output_type": "execute_result"
    }
   ],
   "source": [
    "class_names"
   ]
  },
  {
   "cell_type": "code",
   "execution_count": 10,
   "metadata": {},
   "outputs": [],
   "source": [
    "train_loader = DataLoader(train_data,batch_size=BATCH_SIZE,shuffle=True)\n",
    "val_loader = DataLoader(val_data,batch_size=BATCH_SIZE,shuffle=False)\n",
    "test_loader = DataLoader(train_data,batch_size=BATCH_SIZE,shuffle=False)"
   ]
  },
  {
   "cell_type": "code",
   "execution_count": 11,
   "metadata": {},
   "outputs": [],
   "source": [
    "model = ResNet50(num_classes=15).to(device)"
   ]
  },
  {
   "cell_type": "code",
   "execution_count": 12,
   "metadata": {},
   "outputs": [],
   "source": [
    "loss_fn = nn.CrossEntropyLoss()\n",
    "optimizer = torch.optim.Adam(params=model.parameters(),lr=0.00001)"
   ]
  },
  {
   "cell_type": "code",
   "execution_count": 9,
   "metadata": {},
   "outputs": [],
   "source": [
    "trainer = Train(\n",
    "    model=model,\n",
    "    train_loader=train_loader,\n",
    "    test_loader=test_loader,\n",
    "    loss_fn=loss_fn,\n",
    "    optimizer=optimizer,\n",
    "    accuracy_fn=accuracy_fn,\n",
    "    device=device,\n",
    "    l2_lambda=0.001\n",
    ")"
   ]
  },
  {
   "cell_type": "code",
   "execution_count": 10,
   "metadata": {},
   "outputs": [
    {
     "name": "stdout",
     "output_type": "stream",
     "text": [
      "Train Epoch 1: Loss: 3.65750 | Accuracy: 8.78\n",
      "Test Epoch 1: Loss: 2.73726 | Accuracy: 5.97\n",
      "Train Epoch 2: Loss: 3.42089 | Accuracy: 12.37\n",
      "Test Epoch 2: Loss: 2.73966 | Accuracy: 5.97\n",
      "Train Epoch 3: Loss: 3.25339 | Accuracy: 24.09\n",
      "Test Epoch 3: Loss: 2.66791 | Accuracy: 10.97\n",
      "Train Epoch 4: Loss: 3.12065 | Accuracy: 32.24\n",
      "Test Epoch 4: Loss: 2.40516 | Accuracy: 23.45\n",
      "Train Epoch 5: Loss: 2.97101 | Accuracy: 39.32\n",
      "Test Epoch 5: Loss: 2.11773 | Accuracy: 41.52\n",
      "Train Epoch 6: Loss: 2.84287 | Accuracy: 43.11\n",
      "Test Epoch 6: Loss: 1.93983 | Accuracy: 50.11\n",
      "Train Epoch 7: Loss: 2.67944 | Accuracy: 51.61\n",
      "Test Epoch 7: Loss: 1.73022 | Accuracy: 58.57\n",
      "Train Epoch 8: Loss: 2.53190 | Accuracy: 57.97\n",
      "Test Epoch 8: Loss: 1.50541 | Accuracy: 66.11\n",
      "Train Epoch 9: Loss: 2.36614 | Accuracy: 62.60\n",
      "Test Epoch 9: Loss: 1.35194 | Accuracy: 67.66\n",
      "Train Epoch 10: Loss: 2.19831 | Accuracy: 68.79\n",
      "Test Epoch 10: Loss: 1.26204 | Accuracy: 70.36\n",
      "Train Epoch 11: Loss: 1.96504 | Accuracy: 75.91\n",
      "Test Epoch 11: Loss: 1.02026 | Accuracy: 77.70\n",
      "Train Epoch 12: Loss: 1.90725 | Accuracy: 76.21\n",
      "Test Epoch 12: Loss: 0.80753 | Accuracy: 83.10\n",
      "Train Epoch 13: Loss: 1.69387 | Accuracy: 81.80\n",
      "Test Epoch 13: Loss: 0.69263 | Accuracy: 87.70\n",
      "Train Epoch 14: Loss: 1.51279 | Accuracy: 86.79\n",
      "Test Epoch 14: Loss: 0.56459 | Accuracy: 89.46\n",
      "Train Epoch 15: Loss: 1.43304 | Accuracy: 86.56\n",
      "Test Epoch 15: Loss: 0.47527 | Accuracy: 90.14\n",
      "Train Epoch 16: Loss: 1.37231 | Accuracy: 88.37\n",
      "Test Epoch 16: Loss: 0.36097 | Accuracy: 92.81\n",
      "Train Epoch 17: Loss: 1.27752 | Accuracy: 90.07\n",
      "Test Epoch 17: Loss: 0.37034 | Accuracy: 92.22\n",
      "Train Epoch 18: Loss: 1.21303 | Accuracy: 91.90\n",
      "Test Epoch 18: Loss: 0.24455 | Accuracy: 95.70\n",
      "Train Epoch 19: Loss: 1.12702 | Accuracy: 93.55\n",
      "Test Epoch 19: Loss: 0.23155 | Accuracy: 95.68\n",
      "Train Epoch 20: Loss: 1.08346 | Accuracy: 95.33\n",
      "Test Epoch 20: Loss: 0.17220 | Accuracy: 97.64\n",
      "Train Epoch 21: Loss: 1.06279 | Accuracy: 95.31\n",
      "Test Epoch 21: Loss: 0.13286 | Accuracy: 98.18\n",
      "Train Epoch 22: Loss: 1.04254 | Accuracy: 95.38\n",
      "Test Epoch 22: Loss: 0.10867 | Accuracy: 99.29\n",
      "Train Epoch 23: Loss: 1.02659 | Accuracy: 96.26\n",
      "Test Epoch 23: Loss: 0.11018 | Accuracy: 98.72\n",
      "Train Epoch 24: Loss: 0.98156 | Accuracy: 96.93\n",
      "Test Epoch 24: Loss: 0.11023 | Accuracy: 97.88\n",
      "Train Epoch 25: Loss: 0.98030 | Accuracy: 97.16\n",
      "Test Epoch 25: Loss: 0.08776 | Accuracy: 98.85\n",
      "Train Epoch 26: Loss: 0.95173 | Accuracy: 98.32\n",
      "Test Epoch 26: Loss: 0.08226 | Accuracy: 98.11\n",
      "Train Epoch 27: Loss: 0.95826 | Accuracy: 97.84\n",
      "Test Epoch 27: Loss: 0.06972 | Accuracy: 98.79\n",
      "Train Epoch 28: Loss: 0.91463 | Accuracy: 98.79\n",
      "Test Epoch 28: Loss: 0.04223 | Accuracy: 99.36\n",
      "Train Epoch 29: Loss: 0.91632 | Accuracy: 98.35\n",
      "Test Epoch 29: Loss: 0.02407 | Accuracy: 99.93\n",
      "Train Epoch 30: Loss: 0.89290 | Accuracy: 99.18\n",
      "Test Epoch 30: Loss: 0.03446 | Accuracy: 99.60\n",
      "Train Epoch 31: Loss: 0.93728 | Accuracy: 97.56\n",
      "Test Epoch 31: Loss: 0.01965 | Accuracy: 99.93\n",
      "Train Epoch 32: Loss: 0.90949 | Accuracy: 98.93\n",
      "Test Epoch 32: Loss: 0.02261 | Accuracy: 100.00\n",
      "Train Epoch 33: Loss: 0.88112 | Accuracy: 99.79\n",
      "Test Epoch 33: Loss: 0.01186 | Accuracy: 100.00\n",
      "Train Epoch 34: Loss: 0.87010 | Accuracy: 99.82\n",
      "Test Epoch 34: Loss: 0.00836 | Accuracy: 100.00\n",
      "Train Epoch 35: Loss: 0.85443 | Accuracy: 100.00\n",
      "Test Epoch 35: Loss: 0.00770 | Accuracy: 100.00\n",
      "Train Epoch 36: Loss: 0.86095 | Accuracy: 99.72\n",
      "Test Epoch 36: Loss: 0.00753 | Accuracy: 100.00\n",
      "Train Epoch 37: Loss: 0.87429 | Accuracy: 99.64\n",
      "Test Epoch 37: Loss: 0.00728 | Accuracy: 100.00\n",
      "Train Epoch 38: Loss: 0.85819 | Accuracy: 99.86\n",
      "Test Epoch 38: Loss: 0.00590 | Accuracy: 100.00\n",
      "Train Epoch 39: Loss: 0.86149 | Accuracy: 99.93\n",
      "Test Epoch 39: Loss: 0.00520 | Accuracy: 100.00\n",
      "Train Epoch 40: Loss: 0.85628 | Accuracy: 99.72\n",
      "Test Epoch 40: Loss: 0.00561 | Accuracy: 100.00\n",
      "Train Epoch 41: Loss: 0.85543 | Accuracy: 99.86\n",
      "Test Epoch 41: Loss: 0.00451 | Accuracy: 100.00\n",
      "Train Epoch 42: Loss: 0.85034 | Accuracy: 99.86\n",
      "Test Epoch 42: Loss: 0.00501 | Accuracy: 100.00\n",
      "Train Epoch 43: Loss: 0.84378 | Accuracy: 100.00\n",
      "Test Epoch 43: Loss: 0.00390 | Accuracy: 100.00\n",
      "Train Epoch 44: Loss: 0.84164 | Accuracy: 100.00\n",
      "Test Epoch 44: Loss: 0.00362 | Accuracy: 100.00\n",
      "Train Epoch 45: Loss: 0.83844 | Accuracy: 100.00\n",
      "Test Epoch 45: Loss: 0.00310 | Accuracy: 100.00\n",
      "Train Epoch 46: Loss: 0.84048 | Accuracy: 100.00\n",
      "Test Epoch 46: Loss: 0.00276 | Accuracy: 100.00\n",
      "Train Epoch 47: Loss: 0.83862 | Accuracy: 100.00\n",
      "Test Epoch 47: Loss: 0.00289 | Accuracy: 100.00\n",
      "Train Epoch 48: Loss: 0.84652 | Accuracy: 100.00\n",
      "Test Epoch 48: Loss: 0.00278 | Accuracy: 100.00\n",
      "Train Epoch 49: Loss: 0.84183 | Accuracy: 100.00\n",
      "Test Epoch 49: Loss: 0.00235 | Accuracy: 100.00\n",
      "Train Epoch 50: Loss: 0.83765 | Accuracy: 100.00\n",
      "Test Epoch 50: Loss: 0.00228 | Accuracy: 100.00\n"
     ]
    }
   ],
   "source": [
    "trainer.train(num_epochs=EPOCHS)"
   ]
  },
  {
   "cell_type": "code",
   "execution_count": 11,
   "metadata": {},
   "outputs": [],
   "source": [
    "# Save the model\n",
    "torch.save(model.state_dict(), 'model.pth')"
   ]
  },
  {
   "cell_type": "code",
   "execution_count": 13,
   "metadata": {},
   "outputs": [
    {
     "data": {
      "text/plain": [
       "<All keys matched successfully>"
      ]
     },
     "execution_count": 13,
     "metadata": {},
     "output_type": "execute_result"
    }
   ],
   "source": [
    "# Load the model parameters\n",
    "model.load_state_dict(torch.load('model.pth'))"
   ]
  }
 ],
 "metadata": {
  "kernelspec": {
   "display_name": "torch",
   "language": "python",
   "name": "python3"
  },
  "language_info": {
   "codemirror_mode": {
    "name": "ipython",
    "version": 3
   },
   "file_extension": ".py",
   "mimetype": "text/x-python",
   "name": "python",
   "nbconvert_exporter": "python",
   "pygments_lexer": "ipython3",
   "version": "3.12.3"
  }
 },
 "nbformat": 4,
 "nbformat_minor": 2
}
